{
 "cells": [
  {
   "attachments": {},
   "cell_type": "markdown",
   "metadata": {},
   "source": [
    "# Linear Regression"
   ]
  },
  {
   "cell_type": "code",
   "execution_count": 10,
   "metadata": {},
   "outputs": [],
   "source": [
    "import numpy as np\n",
    "import matplotlib.pyplot as plt\n",
    "import pandas as pd\n",
    "from sklearn.linear_model import LinearRegression"
   ]
  },
  {
   "cell_type": "code",
   "execution_count": 11,
   "metadata": {},
   "outputs": [
    {
     "name": "stdout",
     "output_type": "stream",
     "text": [
      "[10.98067026 -6.08852939  5.4803042   0.37704431  5.50047122]\n",
      "489.64859696903227\n",
      "0.33360272236731703\n",
      "R square: 0.33\n",
      "[19.06719554  0.89722642  5.57252237  1.52044886  0.0331803 ]\n",
      "p value:  [6.69907211e-05 3.48270962e-01 2.23546660e-02 2.23556400e-01\n",
      " 8.56228520e-01]\n"
     ]
    }
   ],
   "source": [
    "# First model center = True\n",
    "data = pd.read_csv('Crime_small.csv')\n",
    "X = data.iloc[:, 0:5].values  # features\n",
    "Y = data.iloc[:, 5].values  # crime rate\n",
    "regressor = LinearRegression()\n",
    "regressor.fit(X, Y)\n",
    "print(regressor.coef_)\n",
    "print(regressor.intercept_)\n",
    "print(regressor.score(X, Y))\n",
    "Y_pred = regressor.predict(X)\n",
    "# print R square\n",
    "print('R square: %.2f' % regressor.score(X, Y))\n",
    "# print p value\n",
    "from sklearn.feature_selection import f_regression\n",
    "F, pval = f_regression(X, Y)\n",
    "# R square from sklearn\n",
    "print(F)\n",
    "print('p value: ', pval)"
   ]
  },
  {
   "cell_type": "code",
   "execution_count": 12,
   "metadata": {},
   "outputs": [
    {
     "name": "stdout",
     "output_type": "stream",
     "text": [
      "[10.40681997 11.68612432  2.19828983]\n",
      "79.30329759235212\n",
      "0.31873977458900893\n"
     ]
    }
   ],
   "source": [
    "# Second model \n",
    "data = pd.read_csv('Crime_small.csv')\n",
    "X = data.iloc[:, [0, 2, 3]].values  # features\n",
    "Y = data.iloc[:, 5].values  # crime rate\n",
    "regressor = LinearRegression()\n",
    "regressor.fit(X, Y)\n",
    "print(regressor.coef_)\n",
    "print(regressor.intercept_)\n",
    "print(regressor.score(X, Y))\n",
    "Y_pred = regressor.predict(X)"
   ]
  },
  {
   "cell_type": "code",
   "execution_count": 13,
   "metadata": {},
   "outputs": [
    {
     "name": "stdout",
     "output_type": "stream",
     "text": [
      "[11.34033114]\n",
      "289.749096068861\n",
      "0.28429987847181293\n"
     ]
    }
   ],
   "source": [
    "# linear regression with 1 feature\n",
    "X = data.iloc[:, 0].values.reshape(-1, 1)  # features\n",
    "Y = data.iloc[:, 5].values  # crime rate\n",
    "regressor = LinearRegression()\n",
    "regressor.fit(X.reshape(-1, 1), Y)\n",
    "print(regressor.coef_)\n",
    "print(regressor.intercept_)\n",
    "print(regressor.score(X, Y))\n",
    "Y_pred = regressor.predict(X)"
   ]
  },
  {
   "cell_type": "code",
   "execution_count": 14,
   "metadata": {},
   "outputs": [
    {
     "data": {
      "image/png": "[encoded data removed]",
      "text/plain": [
       "<Figure size 640x480 with 1 Axes>"
      ]
     },
     "metadata": {},
     "output_type": "display_data"
    }
   ],
   "source": [
    "# Plot the results\n",
    "plt.scatter(X[:, 0], Y, color='red')\n",
    "plt.plot(X[:, 0], Y_pred, color='blue')\n",
    "plt.title('Crime rate vs. funding')\n",
    "plt.xlabel('funding')\n",
    "plt.ylabel('crime rate')\n",
    "plt.show()"
   ]
  },
  {
   "cell_type": "code",
   "execution_count": 15,
   "metadata": {},
   "outputs": [
    {
     "data": {
      "text/html": [
       "<div>\n",
       "<style scoped>\n",
       "    .dataframe tbody tr th:only-of-type {\n",
       "        vertical-align: middle;\n",
       "    }\n",
       "\n",
       "    .dataframe tbody tr th {\n",
       "        vertical-align: top;\n",
       "    }\n",
       "\n",
       "    .dataframe thead th {\n",
       "        text-align: right;\n",
       "    }\n",
       "</style>\n",
       "<table border=\"1\" class=\"dataframe\">\n",
       "  <thead>\n",
       "    <tr style=\"text-align: right;\">\n",
       "      <th></th>\n",
       "      <th>funding</th>\n",
       "      <th>hs</th>\n",
       "      <th>not_hs</th>\n",
       "      <th>college</th>\n",
       "      <th>college4</th>\n",
       "      <th>crime rate</th>\n",
       "    </tr>\n",
       "  </thead>\n",
       "  <tbody>\n",
       "    <tr>\n",
       "      <th>funding</th>\n",
       "      <td>1.000000</td>\n",
       "      <td>0.120265</td>\n",
       "      <td>0.311526</td>\n",
       "      <td>-0.277475</td>\n",
       "      <td>0.124502</td>\n",
       "      <td>0.533198</td>\n",
       "    </tr>\n",
       "    <tr>\n",
       "      <th>hs</th>\n",
       "      <td>0.120265</td>\n",
       "      <td>1.000000</td>\n",
       "      <td>-0.537162</td>\n",
       "      <td>0.182364</td>\n",
       "      <td>0.681072</td>\n",
       "      <td>-0.135459</td>\n",
       "    </tr>\n",
       "    <tr>\n",
       "      <th>not_hs</th>\n",
       "      <td>0.311526</td>\n",
       "      <td>-0.537162</td>\n",
       "      <td>1.000000</td>\n",
       "      <td>-0.626953</td>\n",
       "      <td>-0.513958</td>\n",
       "      <td>0.322519</td>\n",
       "    </tr>\n",
       "    <tr>\n",
       "      <th>college</th>\n",
       "      <td>-0.277475</td>\n",
       "      <td>0.182364</td>\n",
       "      <td>-0.626953</td>\n",
       "      <td>1.000000</td>\n",
       "      <td>0.591663</td>\n",
       "      <td>-0.175224</td>\n",
       "    </tr>\n",
       "    <tr>\n",
       "      <th>college4</th>\n",
       "      <td>0.124502</td>\n",
       "      <td>0.681072</td>\n",
       "      <td>-0.513958</td>\n",
       "      <td>0.591663</td>\n",
       "      <td>1.000000</td>\n",
       "      <td>-0.026283</td>\n",
       "    </tr>\n",
       "    <tr>\n",
       "      <th>crime rate</th>\n",
       "      <td>0.533198</td>\n",
       "      <td>-0.135459</td>\n",
       "      <td>0.322519</td>\n",
       "      <td>-0.175224</td>\n",
       "      <td>-0.026283</td>\n",
       "      <td>1.000000</td>\n",
       "    </tr>\n",
       "  </tbody>\n",
       "</table>\n",
       "</div>"
      ],
      "text/plain": [
       "             funding        hs    not_hs   college  college4  crime rate\n",
       "funding     1.000000  0.120265  0.311526 -0.277475  0.124502    0.533198\n",
       "hs          0.120265  1.000000 -0.537162  0.182364  0.681072   -0.135459\n",
       "not_hs      0.311526 -0.537162  1.000000 -0.626953 -0.513958    0.322519\n",
       "college    -0.277475  0.182364 -0.626953  1.000000  0.591663   -0.175224\n",
       "college4    0.124502  0.681072 -0.513958  0.591663  1.000000   -0.026283\n",
       "crime rate  0.533198 -0.135459  0.322519 -0.175224 -0.026283    1.000000"
      ]
     },
     "execution_count": 15,
     "metadata": {},
     "output_type": "execute_result"
    }
   ],
   "source": [
    "# find the correlations in the data\n",
    "data.corr()"
   ]
  }
 ],
 "metadata": {
  "kernelspec": {
   "display_name": "Python 3",
   "language": "python",
   "name": "python3"
  },
  "language_info": {
   "codemirror_mode": {
    "name": "ipython",
    "version": 3
   },
   "file_extension": ".py",
   "mimetype": "text/x-python",
   "name": "python",
   "nbconvert_exporter": "python",
   "pygments_lexer": "ipython3",
   "version": "3.11.3"
  },
  "orig_nbformat": 4,
  "vscode": {
   "interpreter": {
    "hash": "99ed11fb7e55c0f3dee7ddec0d165e3b3867fd9e13d916adb2f077d13848bdf7"
   }
  }
 },
 "nbformat": 4,
 "nbformat_minor": 2
}
